{
 "cells": [
  {
   "cell_type": "markdown",
   "metadata": {},
   "source": [
    "### Problem Description"
   ]
  },
  {
   "cell_type": "markdown",
   "metadata": {},
   "source": [
    "Broadband company that is now seeing a lot of customer churn due to customer dissatisfaction\n",
    "because of broadband outages. The company has now curated a dataset, where it tracks several variables that it believes\n",
    "impact the `outage_duration`. They have tracked three different outage durations, `0` for\n",
    "no outage, `1` for short outages that last anywhere between a few minutes and a maximum\n",
    "of 2 hours, and `2` for long outages that can last from 2 hours to sometimes even a couple\n",
    "of days. Using the metrics that the company has tracked now want to create a machine learning model that will be able to predict the `outage_duration` so that the company can better handle outages and improve customer satisfaction and therefore reduce customer churn."
   ]
  },
  {
   "cell_type": "markdown",
   "metadata": {},
   "source": [
    "### Importing all Required Libraries"
   ]
  },
  {
   "cell_type": "code",
   "execution_count": 1,
   "metadata": {},
   "outputs": [
    {
     "name": "stderr",
     "output_type": "stream",
     "text": [
      "Using TensorFlow backend.\n"
     ]
    }
   ],
   "source": [
    "import os\n",
    "import pandas as pd\n",
    "import numpy as np\n",
    "import sklearn\n",
    "\n",
    "from sklearn import preprocessing\n",
    "from sklearn.impute import SimpleImputer\n",
    "from sklearn.compose import ColumnTransformer\n",
    "\n",
    "from sklearn.preprocessing import StandardScaler\n",
    "from sklearn.preprocessing import OneHotEncoder\n",
    "from sklearn.model_selection import train_test_split\n",
    "from sklearn.pipeline import Pipeline\n",
    "from sklearn.model_selection import GridSearchCV, RandomizedSearchCV\n",
    "from sklearn.model_selection import cross_val_score\n",
    "from sklearn.ensemble import RandomForestClassifier\n",
    "from sklearn.neighbors import KNeighborsClassifier\n",
    "\n",
    "from sklearn.svm import SVC\n",
    "from sklearn.linear_model import LogisticRegression\n",
    "from sklearn.metrics import confusion_matrix\n",
    "from sklearn import metrics\n",
    "\n",
    "import matplotlib.pyplot as plt\n",
    "import seaborn as sns\n",
    "from imblearn.over_sampling import SMOTE\n",
    "from sklearn.metrics import accuracy_score, recall_score, precision_score\n",
    "\n",
    "import warnings\n",
    "warnings.filterwarnings('ignore')\n",
    "\n",
    "import plotly\n",
    "import plotly.offline as pyoff\n",
    "import plotly.figure_factory as ff\n",
    "from plotly.offline import init_notebook_mode, iplot, plot\n",
    "import plotly.graph_objs as go\n",
    "\n",
    "from numpy import asarray\n",
    "from numpy import savetxt\n",
    "from numpy import loadtxt"
   ]
  },
  {
   "cell_type": "markdown",
   "metadata": {},
   "source": [
    "### Reading the Train dataset"
   ]
  },
  {
   "cell_type": "code",
   "execution_count": 2,
   "metadata": {
    "scrolled": false
   },
   "outputs": [],
   "source": [
    "data = pd.read_csv(\"data5.csv\", sep=',', header=0)"
   ]
  },
  {
   "cell_type": "markdown",
   "metadata": {},
   "source": [
    "### Train Data Description"
   ]
  },
  {
   "cell_type": "code",
   "execution_count": 3,
   "metadata": {},
   "outputs": [
    {
     "name": "stdout",
     "output_type": "stream",
     "text": [
      "(5904, 28)\n",
      "['id', 'area_code', 'int_area_code', 'Count_of_area', 'Count_of_broadband_type', 'broadband_type', 'bb_type', 'outage_type', 'Count_of_transit_server_type', 'server_type', 'transit_type', 'log_report', 'count_of_log', 'Sum_of_logs', 'Count_of_log_report_type', 'sum_area_vol', 'Average_of_Volume_frm_area', 'StdDev_of_Volume_frm_area', 'Min_of_Volume_frm_area', 'Max_of_Volume_frm_area', 'Median_of_Volume_frm_area', 'Sum_of_volume', 'Average_of_volume', 'StdDev_of_volume', 'Min_of_volume', 'Max_of_volume', 'Median_of_volume', 'outage_duration']\n",
      "id                               int64\n",
      "area_code                        int64\n",
      "int_area_code                    int64\n",
      "Count_of_area                    int64\n",
      "Count_of_broadband_type          int64\n",
      "broadband_type                  object\n",
      "bb_type                         object\n",
      "outage_type                      int64\n",
      "Count_of_transit_server_type     int64\n",
      "server_type                     object\n",
      "transit_type                    object\n",
      "log_report                      object\n",
      "count_of_log                     int64\n",
      "Sum_of_logs                      int64\n",
      "Count_of_log_report_type         int64\n",
      "sum_area_vol                     int64\n",
      "Average_of_Volume_frm_area       int64\n",
      "StdDev_of_Volume_frm_area        int64\n",
      "Min_of_Volume_frm_area           int64\n",
      "Max_of_Volume_frm_area           int64\n",
      "Median_of_Volume_frm_area        int64\n",
      "Sum_of_volume                    int64\n",
      "Average_of_volume                int64\n",
      "StdDev_of_volume                 int64\n",
      "Min_of_volume                    int64\n",
      "Max_of_volume                    int64\n",
      "Median_of_volume                 int64\n",
      "outage_duration                  int64\n",
      "dtype: object\n"
     ]
    }
   ],
   "source": [
    "print(data.shape)\n",
    "print(list(data.columns))\n",
    "print((data.dtypes))"
   ]
  },
  {
   "cell_type": "markdown",
   "metadata": {},
   "source": [
    "### Correlation on Numerical attributes "
   ]
  },
  {
   "cell_type": "code",
   "execution_count": 4,
   "metadata": {
    "scrolled": false
   },
   "outputs": [
    {
     "name": "stdout",
     "output_type": "stream",
     "text": [
      "                                    id  area_code  int_area_code  \\\n",
      "id                            1.000000  -0.014969      -0.014969   \n",
      "area_code                    -0.014969   1.000000       1.000000   \n",
      "int_area_code                -0.014969   1.000000       1.000000   \n",
      "Count_of_area                 0.004802   0.121512       0.121512   \n",
      "Count_of_broadband_type       0.001319   0.086650       0.086650   \n",
      "outage_type                   0.007085  -0.327441      -0.327441   \n",
      "Count_of_transit_server_type  0.004300  -0.255801      -0.255801   \n",
      "count_of_log                 -0.008254  -0.303062      -0.303062   \n",
      "Sum_of_logs                  -0.009208  -0.370847      -0.370847   \n",
      "Count_of_log_report_type     -0.006773  -0.227221      -0.227221   \n",
      "sum_area_vol                  0.005088  -0.122831      -0.122831   \n",
      "Average_of_Volume_frm_area    0.018000   0.030081       0.030081   \n",
      "StdDev_of_Volume_frm_area     0.000333   0.088526       0.088526   \n",
      "Min_of_Volume_frm_area        0.024466  -0.018107      -0.018107   \n",
      "Max_of_Volume_frm_area        0.009315   0.039481       0.039481   \n",
      "Median_of_Volume_frm_area     0.018838   0.029296       0.029296   \n",
      "Sum_of_volume                -0.014418  -0.034232      -0.034232   \n",
      "Average_of_volume            -0.006270   0.000979       0.000979   \n",
      "StdDev_of_volume             -0.001236   0.058512       0.058512   \n",
      "Min_of_volume                -0.005333  -0.041332      -0.041332   \n",
      "Max_of_volume                -0.004784   0.026429       0.026429   \n",
      "Median_of_volume             -0.007682  -0.006583      -0.006583   \n",
      "outage_duration              -0.006469   0.271946       0.271946   \n",
      "\n",
      "                              Count_of_area  Count_of_broadband_type  \\\n",
      "id                                 0.004802                 0.001319   \n",
      "area_code                          0.121512                 0.086650   \n",
      "int_area_code                      0.121512                 0.086650   \n",
      "Count_of_area                      1.000000                -0.066871   \n",
      "Count_of_broadband_type           -0.066871                 1.000000   \n",
      "outage_type                       -0.029605                -0.184556   \n",
      "Count_of_transit_server_type       0.052619                 0.523445   \n",
      "count_of_log                       0.181667                -0.216687   \n",
      "Sum_of_logs                        0.072547                 0.049208   \n",
      "Count_of_log_report_type           0.167412                 0.164488   \n",
      "sum_area_vol                       0.521243                 0.099838   \n",
      "Average_of_Volume_frm_area         0.587107                 0.064912   \n",
      "StdDev_of_Volume_frm_area          0.619771                 0.027198   \n",
      "Min_of_Volume_frm_area             0.248806                 0.037982   \n",
      "Max_of_Volume_frm_area             0.675818                 0.047139   \n",
      "Median_of_Volume_frm_area          0.509545                 0.074540   \n",
      "Sum_of_volume                      0.165996                -0.053604   \n",
      "Average_of_volume                  0.159668                -0.079795   \n",
      "StdDev_of_volume                   0.179918                -0.038210   \n",
      "Min_of_volume                      0.084323                -0.073897   \n",
      "Max_of_volume                      0.186855                -0.056310   \n",
      "Median_of_volume                   0.131588                -0.085517   \n",
      "outage_duration                    0.176018                 0.115687   \n",
      "\n",
      "                              outage_type  Count_of_transit_server_type  \\\n",
      "id                               0.007085                      0.004300   \n",
      "area_code                       -0.327441                     -0.255801   \n",
      "int_area_code                   -0.327441                     -0.255801   \n",
      "Count_of_area                   -0.029605                      0.052619   \n",
      "Count_of_broadband_type         -0.184556                      0.523445   \n",
      "outage_type                      1.000000                     -0.189858   \n",
      "Count_of_transit_server_type    -0.189858                      1.000000   \n",
      "count_of_log                     0.304029                      0.046158   \n",
      "Sum_of_logs                      0.074146                      0.530441   \n",
      "Count_of_log_report_type        -0.085083                      0.534826   \n",
      "sum_area_vol                    -0.039895                      0.285355   \n",
      "Average_of_Volume_frm_area       0.001825                      0.066080   \n",
      "StdDev_of_Volume_frm_area       -0.080867                      0.131144   \n",
      "Min_of_Volume_frm_area           0.081926                     -0.063173   \n",
      "Max_of_Volume_frm_area          -0.038653                      0.132935   \n",
      "Median_of_Volume_frm_area        0.006247                      0.052001   \n",
      "Sum_of_volume                   -0.028423                      0.127765   \n",
      "Average_of_volume               -0.033137                      0.022284   \n",
      "StdDev_of_volume                -0.063892                      0.041627   \n",
      "Min_of_volume                    0.004842                     -0.007103   \n",
      "Max_of_volume                   -0.053647                      0.057955   \n",
      "Median_of_volume                -0.020171                     -0.003270   \n",
      "outage_duration                 -0.215349                      0.013477   \n",
      "\n",
      "                              count_of_log  Sum_of_logs  \\\n",
      "id                               -0.008254    -0.009208   \n",
      "area_code                        -0.303062    -0.370847   \n",
      "int_area_code                    -0.303062    -0.370847   \n",
      "Count_of_area                     0.181667     0.072547   \n",
      "Count_of_broadband_type          -0.216687     0.049208   \n",
      "outage_type                       0.304029     0.074146   \n",
      "Count_of_transit_server_type      0.046158     0.530441   \n",
      "count_of_log                      1.000000     0.041965   \n",
      "Sum_of_logs                       0.041965     1.000000   \n",
      "Count_of_log_report_type         -0.058691     0.927611   \n",
      "sum_area_vol                     -0.023868     0.480383   \n",
      "Average_of_Volume_frm_area       -0.014522     0.073084   \n",
      "StdDev_of_Volume_frm_area         0.038911     0.182307   \n",
      "Min_of_Volume_frm_area           -0.040172    -0.096830   \n",
      "Max_of_Volume_frm_area            0.007490     0.207100   \n",
      "Median_of_Volume_frm_area        -0.018030     0.029152   \n",
      "Sum_of_volume                     0.006784     0.364165   \n",
      "Average_of_volume                 0.041898     0.062112   \n",
      "StdDev_of_volume                 -0.005928     0.136877   \n",
      "Min_of_volume                     0.066069    -0.053693   \n",
      "Max_of_volume                     0.014939     0.157428   \n",
      "Median_of_volume                  0.048565     0.020380   \n",
      "outage_duration                  -0.055786    -0.119234   \n",
      "\n",
      "                              Count_of_log_report_type  ...  \\\n",
      "id                                           -0.006773  ...   \n",
      "area_code                                    -0.227221  ...   \n",
      "int_area_code                                -0.227221  ...   \n",
      "Count_of_area                                 0.167412  ...   \n",
      "Count_of_broadband_type                       0.164488  ...   \n",
      "outage_type                                  -0.085083  ...   \n",
      "Count_of_transit_server_type                  0.534826  ...   \n",
      "count_of_log                                 -0.058691  ...   \n",
      "Sum_of_logs                                   0.927611  ...   \n",
      "Count_of_log_report_type                      1.000000  ...   \n",
      "sum_area_vol                                  0.569646  ...   \n",
      "Average_of_Volume_frm_area                    0.145383  ...   \n",
      "StdDev_of_Volume_frm_area                     0.309158  ...   \n",
      "Min_of_Volume_frm_area                       -0.124132  ...   \n",
      "Max_of_Volume_frm_area                        0.314288  ...   \n",
      "Median_of_Volume_frm_area                     0.093456  ...   \n",
      "Sum_of_volume                                 0.392642  ...   \n",
      "Average_of_volume                             0.073929  ...   \n",
      "StdDev_of_volume                              0.204631  ...   \n",
      "Min_of_volume                                -0.087716  ...   \n",
      "Max_of_volume                                 0.207555  ...   \n",
      "Median_of_volume                              0.013812  ...   \n",
      "outage_duration                               0.005962  ...   \n",
      "\n",
      "                              Min_of_Volume_frm_area  Max_of_Volume_frm_area  \\\n",
      "id                                          0.024466                0.009315   \n",
      "area_code                                  -0.018107                0.039481   \n",
      "int_area_code                              -0.018107                0.039481   \n",
      "Count_of_area                               0.248806                0.675818   \n",
      "Count_of_broadband_type                     0.037982                0.047139   \n",
      "outage_type                                 0.081926               -0.038653   \n",
      "Count_of_transit_server_type               -0.063173                0.132935   \n",
      "count_of_log                               -0.040172                0.007490   \n",
      "Sum_of_logs                                -0.096830                0.207100   \n",
      "Count_of_log_report_type                   -0.124132                0.314288   \n",
      "sum_area_vol                                0.361520                0.809412   \n",
      "Average_of_Volume_frm_area                  0.746117                0.893696   \n",
      "StdDev_of_Volume_frm_area                   0.000467                0.874301   \n",
      "Min_of_Volume_frm_area                      1.000000                0.436285   \n",
      "Max_of_Volume_frm_area                      0.436285                1.000000   \n",
      "Median_of_Volume_frm_area                   0.739557                0.777059   \n",
      "Sum_of_volume                              -0.232141                0.042775   \n",
      "Average_of_volume                          -0.226568               -0.065441   \n",
      "StdDev_of_volume                           -0.199330                0.104686   \n",
      "Min_of_volume                              -0.150884               -0.181001   \n",
      "Max_of_volume                              -0.232500                0.041838   \n",
      "Median_of_volume                           -0.201141               -0.103357   \n",
      "outage_duration                            -0.069307                0.090503   \n",
      "\n",
      "                              Median_of_Volume_frm_area  Sum_of_volume  \\\n",
      "id                                             0.018838      -0.014418   \n",
      "area_code                                      0.029296      -0.034232   \n",
      "int_area_code                                  0.029296      -0.034232   \n",
      "Count_of_area                                  0.509545       0.165996   \n",
      "Count_of_broadband_type                        0.074540      -0.053604   \n",
      "outage_type                                    0.006247      -0.028423   \n",
      "Count_of_transit_server_type                   0.052001       0.127765   \n",
      "count_of_log                                  -0.018030       0.006784   \n",
      "Sum_of_logs                                    0.029152       0.364165   \n",
      "Count_of_log_report_type                       0.093456       0.392642   \n",
      "sum_area_vol                                   0.707346       0.057471   \n",
      "Average_of_Volume_frm_area                     0.957341      -0.109699   \n",
      "StdDev_of_Volume_frm_area                      0.521385       0.115890   \n",
      "Min_of_Volume_frm_area                         0.739557      -0.232141   \n",
      "Max_of_Volume_frm_area                         0.777059       0.042775   \n",
      "Median_of_Volume_frm_area                      1.000000      -0.154550   \n",
      "Sum_of_volume                                 -0.154550       1.000000   \n",
      "Average_of_volume                             -0.182358       0.821435   \n",
      "StdDev_of_volume                              -0.071403       0.821918   \n",
      "Min_of_volume                                 -0.178675       0.428130   \n",
      "Max_of_volume                                 -0.130965       0.917998   \n",
      "Median_of_volume                              -0.196249       0.708531   \n",
      "outage_duration                                0.014597      -0.013821   \n",
      "\n",
      "                              Average_of_volume  StdDev_of_volume  \\\n",
      "id                                    -0.006270         -0.001236   \n",
      "area_code                              0.000979          0.058512   \n",
      "int_area_code                          0.000979          0.058512   \n",
      "Count_of_area                          0.159668          0.179918   \n",
      "Count_of_broadband_type               -0.079795         -0.038210   \n",
      "outage_type                           -0.033137         -0.063892   \n",
      "Count_of_transit_server_type           0.022284          0.041627   \n",
      "count_of_log                           0.041898         -0.005928   \n",
      "Sum_of_logs                            0.062112          0.136877   \n",
      "Count_of_log_report_type               0.073929          0.204631   \n",
      "sum_area_vol                          -0.076866          0.052530   \n",
      "Average_of_Volume_frm_area            -0.162498         -0.031107   \n",
      "StdDev_of_Volume_frm_area              0.028858          0.199533   \n",
      "Min_of_Volume_frm_area                -0.226568         -0.199330   \n",
      "Max_of_Volume_frm_area                -0.065441          0.104686   \n",
      "Median_of_Volume_frm_area             -0.182358         -0.071403   \n",
      "Sum_of_volume                          0.821435          0.821918   \n",
      "Average_of_volume                      1.000000          0.731660   \n",
      "StdDev_of_volume                       0.731660          1.000000   \n",
      "Min_of_volume                          0.774735          0.161705   \n",
      "Max_of_volume                          0.908957          0.925356   \n",
      "Median_of_volume                       0.953195          0.594906   \n",
      "outage_duration                       -0.012214          0.070074   \n",
      "\n",
      "                              Min_of_volume  Max_of_volume  Median_of_volume  \\\n",
      "id                                -0.005333      -0.004784         -0.007682   \n",
      "area_code                         -0.041332       0.026429         -0.006583   \n",
      "int_area_code                     -0.041332       0.026429         -0.006583   \n",
      "Count_of_area                      0.084323       0.186855          0.131588   \n",
      "Count_of_broadband_type           -0.073897      -0.056310         -0.085517   \n",
      "outage_type                        0.004842      -0.053647         -0.020171   \n",
      "Count_of_transit_server_type      -0.007103       0.057955         -0.003270   \n",
      "count_of_log                       0.066069       0.014939          0.048565   \n",
      "Sum_of_logs                       -0.053693       0.157428          0.020380   \n",
      "Count_of_log_report_type          -0.087716       0.207555          0.013812   \n",
      "sum_area_vol                      -0.146359       0.017077         -0.112057   \n",
      "Average_of_Volume_frm_area        -0.194090      -0.094898         -0.178011   \n",
      "StdDev_of_Volume_frm_area         -0.127312       0.134974         -0.015492   \n",
      "Min_of_Volume_frm_area            -0.150884      -0.232500         -0.201141   \n",
      "Max_of_Volume_frm_area            -0.181001       0.041838         -0.103357   \n",
      "Median_of_Volume_frm_area         -0.178675      -0.130965         -0.196249   \n",
      "Sum_of_volume                      0.428130       0.917998          0.708531   \n",
      "Average_of_volume                  0.774735       0.908957          0.953195   \n",
      "StdDev_of_volume                   0.161705       0.925356          0.594906   \n",
      "Min_of_volume                      1.000000       0.492773          0.785106   \n",
      "Max_of_volume                      0.492773       1.000000          0.779423   \n",
      "Median_of_volume                   0.785106       0.779423          1.000000   \n",
      "outage_duration                   -0.059192       0.036653         -0.035881   \n",
      "\n",
      "                              outage_duration  \n",
      "id                                  -0.006469  \n",
      "area_code                            0.271946  \n",
      "int_area_code                        0.271946  \n",
      "Count_of_area                        0.176018  \n",
      "Count_of_broadband_type              0.115687  \n",
      "outage_type                         -0.215349  \n",
      "Count_of_transit_server_type         0.013477  \n",
      "count_of_log                        -0.055786  \n",
      "Sum_of_logs                         -0.119234  \n",
      "Count_of_log_report_type             0.005962  \n",
      "sum_area_vol                         0.012107  \n",
      "Average_of_Volume_frm_area           0.034957  \n",
      "StdDev_of_Volume_frm_area            0.141585  \n",
      "Min_of_Volume_frm_area              -0.069307  \n",
      "Max_of_Volume_frm_area               0.090503  \n",
      "Median_of_Volume_frm_area            0.014597  \n",
      "Sum_of_volume                       -0.013821  \n",
      "Average_of_volume                   -0.012214  \n",
      "StdDev_of_volume                     0.070074  \n",
      "Min_of_volume                       -0.059192  \n",
      "Max_of_volume                        0.036653  \n",
      "Median_of_volume                    -0.035881  \n",
      "outage_duration                      1.000000  \n",
      "\n",
      "[23 rows x 23 columns]\n"
     ]
    }
   ],
   "source": [
    "corr=data.corr()\n",
    "print(corr)"
   ]
  },
  {
   "cell_type": "code",
   "execution_count": 5,
   "metadata": {
    "scrolled": false
   },
   "outputs": [
    {
     "data": {
      "text/plain": [
       "<matplotlib.axes._subplots.AxesSubplot at 0x19d88046b88>"
      ]
     },
     "execution_count": 5,
     "metadata": {},
     "output_type": "execute_result"
    },
    {
     "data": {
      "image/png": "[encoded data removed]",
      "text/plain": [
       "<Figure size 1080x864 with 2 Axes>"
      ]
     },
     "metadata": {
      "needs_background": "light"
     },
     "output_type": "display_data"
    }
   ],
   "source": [
    "mask = np.zeros_like(corr, dtype=np.bool)\n",
    "mask[np.triu_indices_from(mask)] = True\n",
    "\n",
    "\n",
    "# Set up the matplotlib figure\n",
    "f, ax = plt.subplots(figsize=(15, 12))\n",
    "\n",
    "# Generate a custom diverging colormap\n",
    "cmap = sns.diverging_palette(800, 14, as_cmap=True)\n",
    "\n",
    "# Draw the heatmap with the mask and correct aspect ratio\n",
    "sns.heatmap(corr, mask=mask, cmap=cmap, vmax=.3, center=0,\n",
    "            square=True, linewidths=.5, cbar_kws={\"shrink\": .5})"
   ]
  },
  {
   "cell_type": "markdown",
   "metadata": {},
   "source": [
    "### Train Data Preprocessing"
   ]
  },
  {
   "cell_type": "code",
   "execution_count": 6,
   "metadata": {},
   "outputs": [
    {
     "name": "stdout",
     "output_type": "stream",
     "text": [
      "(5904, 27)\n",
      "['area_code', 'int_area_code', 'Count_of_area', 'Count_of_broadband_type', 'broadband_type', 'bb_type', 'outage_type', 'Count_of_transit_server_type', 'server_type', 'transit_type', 'log_report', 'count_of_log', 'Sum_of_logs', 'Count_of_log_report_type', 'sum_area_vol', 'Average_of_Volume_frm_area', 'StdDev_of_Volume_frm_area', 'Min_of_Volume_frm_area', 'Max_of_Volume_frm_area', 'Median_of_Volume_frm_area', 'Sum_of_volume', 'Average_of_volume', 'StdDev_of_volume', 'Min_of_volume', 'Max_of_volume', 'Median_of_volume', 'outage_duration']\n",
      "area_code                       category\n",
      "int_area_code                      int64\n",
      "Count_of_area                      int64\n",
      "Count_of_broadband_type            int64\n",
      "broadband_type                  category\n",
      "bb_type                         category\n",
      "outage_type                        int64\n",
      "Count_of_transit_server_type       int64\n",
      "server_type                     category\n",
      "transit_type                    category\n",
      "log_report                      category\n",
      "count_of_log                       int64\n",
      "Sum_of_logs                        int64\n",
      "Count_of_log_report_type           int64\n",
      "sum_area_vol                       int64\n",
      "Average_of_Volume_frm_area         int64\n",
      "StdDev_of_Volume_frm_area          int64\n",
      "Min_of_Volume_frm_area             int64\n",
      "Max_of_Volume_frm_area             int64\n",
      "Median_of_Volume_frm_area          int64\n",
      "Sum_of_volume                      int64\n",
      "Average_of_volume                  int64\n",
      "StdDev_of_volume                   int64\n",
      "Min_of_volume                      int64\n",
      "Max_of_volume                      int64\n",
      "Median_of_volume                   int64\n",
      "outage_duration                 category\n",
      "dtype: object\n"
     ]
    }
   ],
   "source": [
    "data.drop(\"id\", axis = 1, inplace= True) \n",
    "\n",
    "\n",
    "data['area_code'] = data['area_code'].astype('category')\n",
    "data['broadband_type'] = data['broadband_type'].astype('category')\n",
    "data['bb_type'] = data['bb_type'].astype('category')\n",
    "data['server_type'] = data['server_type'].astype('category')\n",
    "data['transit_type'] = data['transit_type'].astype('category')\n",
    "data['log_report'] = data['log_report'].astype('category')\n",
    "data['outage_duration'] = data['outage_duration'].astype('category')\n",
    "\n",
    "\n",
    "print(data.shape)\n",
    "print(list(data.columns))\n",
    "print((data.dtypes))"
   ]
  },
  {
   "cell_type": "markdown",
   "metadata": {},
   "source": [
    "### Description of Categorical Attributes"
   ]
  },
  {
   "cell_type": "code",
   "execution_count": 7,
   "metadata": {
    "scrolled": true
   },
   "outputs": [
    {
     "data": {
      "text/html": [
       "<div>\n",
       "<style scoped>\n",
       "    .dataframe tbody tr th:only-of-type {\n",
       "        vertical-align: middle;\n",
       "    }\n",
       "\n",
       "    .dataframe tbody tr th {\n",
       "        vertical-align: top;\n",
       "    }\n",
       "\n",
       "    .dataframe thead th {\n",
       "        text-align: right;\n",
       "    }\n",
       "</style>\n",
       "<table border=\"1\" class=\"dataframe\">\n",
       "  <thead>\n",
       "    <tr style=\"text-align: right;\">\n",
       "      <th></th>\n",
       "      <th>area_code</th>\n",
       "      <th>broadband_type</th>\n",
       "      <th>bb_type</th>\n",
       "      <th>server_type</th>\n",
       "      <th>transit_type</th>\n",
       "      <th>log_report</th>\n",
       "      <th>outage_duration</th>\n",
       "    </tr>\n",
       "  </thead>\n",
       "  <tbody>\n",
       "    <tr>\n",
       "      <td>count</td>\n",
       "      <td>5904</td>\n",
       "      <td>5904</td>\n",
       "      <td>5904</td>\n",
       "      <td>5904</td>\n",
       "      <td>5904</td>\n",
       "      <td>5904</td>\n",
       "      <td>5904</td>\n",
       "    </tr>\n",
       "    <tr>\n",
       "      <td>unique</td>\n",
       "      <td>876</td>\n",
       "      <td>107</td>\n",
       "      <td>5</td>\n",
       "      <td>331</td>\n",
       "      <td>8</td>\n",
       "      <td>2286</td>\n",
       "      <td>3</td>\n",
       "    </tr>\n",
       "    <tr>\n",
       "      <td>top</td>\n",
       "      <td>821</td>\n",
       "      <td>_8</td>\n",
       "      <td>only 8</td>\n",
       "      <td>_11</td>\n",
       "      <td>only 34&amp;35</td>\n",
       "      <td>_232_312</td>\n",
       "      <td>0</td>\n",
       "    </tr>\n",
       "    <tr>\n",
       "      <td>freq</td>\n",
       "      <td>67</td>\n",
       "      <td>2582</td>\n",
       "      <td>2582</td>\n",
       "      <td>1301</td>\n",
       "      <td>1719</td>\n",
       "      <td>271</td>\n",
       "      <td>3827</td>\n",
       "    </tr>\n",
       "  </tbody>\n",
       "</table>\n",
       "</div>"
      ],
      "text/plain": [
       "        area_code broadband_type bb_type server_type transit_type log_report  \\\n",
       "count        5904           5904    5904        5904         5904       5904   \n",
       "unique        876            107       5         331            8       2286   \n",
       "top           821             _8  only 8         _11   only 34&35   _232_312   \n",
       "freq           67           2582    2582        1301         1719        271   \n",
       "\n",
       "        outage_duration  \n",
       "count              5904  \n",
       "unique                3  \n",
       "top                   0  \n",
       "freq               3827  "
      ]
     },
     "execution_count": 7,
     "metadata": {},
     "output_type": "execute_result"
    }
   ],
   "source": [
    "data.describe(include='category')"
   ]
  },
  {
   "cell_type": "markdown",
   "metadata": {},
   "source": [
    "### Description of Numerical Attributes"
   ]
  },
  {
   "cell_type": "code",
   "execution_count": 8,
   "metadata": {},
   "outputs": [
    {
     "data": {
      "text/html": [
       "<div>\n",
       "<style scoped>\n",
       "    .dataframe tbody tr th:only-of-type {\n",
       "        vertical-align: middle;\n",
       "    }\n",
       "\n",
       "    .dataframe tbody tr th {\n",
       "        vertical-align: top;\n",
       "    }\n",
       "\n",
       "    .dataframe thead th {\n",
       "        text-align: right;\n",
       "    }\n",
       "</style>\n",
       "<table border=\"1\" class=\"dataframe\">\n",
       "  <thead>\n",
       "    <tr style=\"text-align: right;\">\n",
       "      <th></th>\n",
       "      <th>int_area_code</th>\n",
       "      <th>Count_of_area</th>\n",
       "      <th>Count_of_broadband_type</th>\n",
       "      <th>outage_type</th>\n",
       "      <th>Count_of_transit_server_type</th>\n",
       "      <th>count_of_log</th>\n",
       "      <th>Sum_of_logs</th>\n",
       "      <th>Count_of_log_report_type</th>\n",
       "      <th>sum_area_vol</th>\n",
       "      <th>Average_of_Volume_frm_area</th>\n",
       "      <th>StdDev_of_Volume_frm_area</th>\n",
       "      <th>Min_of_Volume_frm_area</th>\n",
       "      <th>Max_of_Volume_frm_area</th>\n",
       "      <th>Median_of_Volume_frm_area</th>\n",
       "      <th>Sum_of_volume</th>\n",
       "      <th>Average_of_volume</th>\n",
       "      <th>StdDev_of_volume</th>\n",
       "      <th>Min_of_volume</th>\n",
       "      <th>Max_of_volume</th>\n",
       "      <th>Median_of_volume</th>\n",
       "    </tr>\n",
       "  </thead>\n",
       "  <tbody>\n",
       "    <tr>\n",
       "      <td>count</td>\n",
       "      <td>5904.000000</td>\n",
       "      <td>5904.000000</td>\n",
       "      <td>5904.00000</td>\n",
       "      <td>5904.000000</td>\n",
       "      <td>5904.000000</td>\n",
       "      <td>5904.000000</td>\n",
       "      <td>5904.000000</td>\n",
       "      <td>5904.000000</td>\n",
       "      <td>5904.000000</td>\n",
       "      <td>5904.000000</td>\n",
       "      <td>5904.000000</td>\n",
       "      <td>5904.000000</td>\n",
       "      <td>5904.000000</td>\n",
       "      <td>5904.000000</td>\n",
       "      <td>5904.000000</td>\n",
       "      <td>5904.000000</td>\n",
       "      <td>5904.000000</td>\n",
       "      <td>5904.00000</td>\n",
       "      <td>5904.000000</td>\n",
       "      <td>5904.000000</td>\n",
       "    </tr>\n",
       "    <tr>\n",
       "      <td>mean</td>\n",
       "      <td>623.909045</td>\n",
       "      <td>24.527270</td>\n",
       "      <td>1.14397</td>\n",
       "      <td>1.656673</td>\n",
       "      <td>1.688347</td>\n",
       "      <td>1959.457317</td>\n",
       "      <td>678.396341</td>\n",
       "      <td>3.217310</td>\n",
       "      <td>34.947154</td>\n",
       "      <td>9.852642</td>\n",
       "      <td>4.426999</td>\n",
       "      <td>6.013550</td>\n",
       "      <td>14.616531</td>\n",
       "      <td>9.418191</td>\n",
       "      <td>32.354505</td>\n",
       "      <td>9.031165</td>\n",
       "      <td>5.162093</td>\n",
       "      <td>4.73357</td>\n",
       "      <td>15.033367</td>\n",
       "      <td>8.090617</td>\n",
       "    </tr>\n",
       "    <tr>\n",
       "      <td>std</td>\n",
       "      <td>320.360280</td>\n",
       "      <td>20.899798</td>\n",
       "      <td>0.43784</td>\n",
       "      <td>0.759276</td>\n",
       "      <td>0.723573</td>\n",
       "      <td>1709.499473</td>\n",
       "      <td>646.044988</td>\n",
       "      <td>2.232929</td>\n",
       "      <td>51.267277</td>\n",
       "      <td>10.182194</td>\n",
       "      <td>7.583099</td>\n",
       "      <td>7.553198</td>\n",
       "      <td>16.735508</td>\n",
       "      <td>10.487947</td>\n",
       "      <td>81.161794</td>\n",
       "      <td>21.531079</td>\n",
       "      <td>16.047574</td>\n",
       "      <td>14.74172</td>\n",
       "      <td>37.773293</td>\n",
       "      <td>20.997715</td>\n",
       "    </tr>\n",
       "    <tr>\n",
       "      <td>min</td>\n",
       "      <td>1.000000</td>\n",
       "      <td>1.000000</td>\n",
       "      <td>1.00000</td>\n",
       "      <td>1.000000</td>\n",
       "      <td>1.000000</td>\n",
       "      <td>1.000000</td>\n",
       "      <td>8.000000</td>\n",
       "      <td>1.000000</td>\n",
       "      <td>0.000000</td>\n",
       "      <td>0.000000</td>\n",
       "      <td>0.000000</td>\n",
       "      <td>0.000000</td>\n",
       "      <td>0.000000</td>\n",
       "      <td>0.000000</td>\n",
       "      <td>1.000000</td>\n",
       "      <td>1.000000</td>\n",
       "      <td>0.000000</td>\n",
       "      <td>1.00000</td>\n",
       "      <td>1.000000</td>\n",
       "      <td>1.000000</td>\n",
       "    </tr>\n",
       "    <tr>\n",
       "      <td>25%</td>\n",
       "      <td>375.000000</td>\n",
       "      <td>8.000000</td>\n",
       "      <td>1.00000</td>\n",
       "      <td>1.000000</td>\n",
       "      <td>1.000000</td>\n",
       "      <td>564.000000</td>\n",
       "      <td>281.000000</td>\n",
       "      <td>2.000000</td>\n",
       "      <td>6.000000</td>\n",
       "      <td>3.000000</td>\n",
       "      <td>0.000000</td>\n",
       "      <td>2.000000</td>\n",
       "      <td>3.000000</td>\n",
       "      <td>3.000000</td>\n",
       "      <td>3.000000</td>\n",
       "      <td>1.000000</td>\n",
       "      <td>0.000000</td>\n",
       "      <td>1.00000</td>\n",
       "      <td>2.000000</td>\n",
       "      <td>1.000000</td>\n",
       "    </tr>\n",
       "    <tr>\n",
       "      <td>50%</td>\n",
       "      <td>661.000000</td>\n",
       "      <td>19.000000</td>\n",
       "      <td>1.00000</td>\n",
       "      <td>2.000000</td>\n",
       "      <td>2.000000</td>\n",
       "      <td>1419.000000</td>\n",
       "      <td>537.000000</td>\n",
       "      <td>2.000000</td>\n",
       "      <td>16.000000</td>\n",
       "      <td>6.000000</td>\n",
       "      <td>1.000000</td>\n",
       "      <td>4.000000</td>\n",
       "      <td>8.000000</td>\n",
       "      <td>6.000000</td>\n",
       "      <td>8.000000</td>\n",
       "      <td>3.000000</td>\n",
       "      <td>1.000000</td>\n",
       "      <td>1.00000</td>\n",
       "      <td>4.000000</td>\n",
       "      <td>3.000000</td>\n",
       "    </tr>\n",
       "    <tr>\n",
       "      <td>75%</td>\n",
       "      <td>892.000000</td>\n",
       "      <td>36.000000</td>\n",
       "      <td>1.00000</td>\n",
       "      <td>2.000000</td>\n",
       "      <td>2.000000</td>\n",
       "      <td>3472.000000</td>\n",
       "      <td>862.250000</td>\n",
       "      <td>4.000000</td>\n",
       "      <td>42.000000</td>\n",
       "      <td>13.000000</td>\n",
       "      <td>6.000000</td>\n",
       "      <td>7.000000</td>\n",
       "      <td>19.000000</td>\n",
       "      <td>13.000000</td>\n",
       "      <td>26.000000</td>\n",
       "      <td>8.000000</td>\n",
       "      <td>4.000000</td>\n",
       "      <td>3.00000</td>\n",
       "      <td>13.000000</td>\n",
       "      <td>7.000000</td>\n",
       "    </tr>\n",
       "    <tr>\n",
       "      <td>max</td>\n",
       "      <td>1126.000000</td>\n",
       "      <td>85.000000</td>\n",
       "      <td>5.00000</td>\n",
       "      <td>5.000000</td>\n",
       "      <td>9.000000</td>\n",
       "      <td>5267.000000</td>\n",
       "      <td>5203.000000</td>\n",
       "      <td>19.000000</td>\n",
       "      <td>686.000000</td>\n",
       "      <td>75.000000</td>\n",
       "      <td>56.000000</td>\n",
       "      <td>75.000000</td>\n",
       "      <td>85.000000</td>\n",
       "      <td>85.000000</td>\n",
       "      <td>1649.000000</td>\n",
       "      <td>412.000000</td>\n",
       "      <td>423.000000</td>\n",
       "      <td>354.00000</td>\n",
       "      <td>877.000000</td>\n",
       "      <td>574.000000</td>\n",
       "    </tr>\n",
       "  </tbody>\n",
       "</table>\n",
       "</div>"
      ],
      "text/plain": [
       "       int_area_code  Count_of_area  Count_of_broadband_type  outage_type  \\\n",
       "count    5904.000000    5904.000000               5904.00000  5904.000000   \n",
       "mean      623.909045      24.527270                  1.14397     1.656673   \n",
       "std       320.360280      20.899798                  0.43784     0.759276   \n",
       "min         1.000000       1.000000                  1.00000     1.000000   \n",
       "25%       375.000000       8.000000                  1.00000     1.000000   \n",
       "50%       661.000000      19.000000                  1.00000     2.000000   \n",
       "75%       892.000000      36.000000                  1.00000     2.000000   \n",
       "max      1126.000000      85.000000                  5.00000     5.000000   \n",
       "\n",
       "       Count_of_transit_server_type  count_of_log  Sum_of_logs  \\\n",
       "count                   5904.000000   5904.000000  5904.000000   \n",
       "mean                       1.688347   1959.457317   678.396341   \n",
       "std                        0.723573   1709.499473   646.044988   \n",
       "min                        1.000000      1.000000     8.000000   \n",
       "25%                        1.000000    564.000000   281.000000   \n",
       "50%                        2.000000   1419.000000   537.000000   \n",
       "75%                        2.000000   3472.000000   862.250000   \n",
       "max                        9.000000   5267.000000  5203.000000   \n",
       "\n",
       "       Count_of_log_report_type  sum_area_vol  Average_of_Volume_frm_area  \\\n",
       "count               5904.000000   5904.000000                 5904.000000   \n",
       "mean                   3.217310     34.947154                    9.852642   \n",
       "std                    2.232929     51.267277                   10.182194   \n",
       "min                    1.000000      0.000000                    0.000000   \n",
       "25%                    2.000000      6.000000                    3.000000   \n",
       "50%                    2.000000     16.000000                    6.000000   \n",
       "75%                    4.000000     42.000000                   13.000000   \n",
       "max                   19.000000    686.000000                   75.000000   \n",
       "\n",
       "       StdDev_of_Volume_frm_area  Min_of_Volume_frm_area  \\\n",
       "count                5904.000000             5904.000000   \n",
       "mean                    4.426999                6.013550   \n",
       "std                     7.583099                7.553198   \n",
       "min                     0.000000                0.000000   \n",
       "25%                     0.000000                2.000000   \n",
       "50%                     1.000000                4.000000   \n",
       "75%                     6.000000                7.000000   \n",
       "max                    56.000000               75.000000   \n",
       "\n",
       "       Max_of_Volume_frm_area  Median_of_Volume_frm_area  Sum_of_volume  \\\n",
       "count             5904.000000                5904.000000    5904.000000   \n",
       "mean                14.616531                   9.418191      32.354505   \n",
       "std                 16.735508                  10.487947      81.161794   \n",
       "min                  0.000000                   0.000000       1.000000   \n",
       "25%                  3.000000                   3.000000       3.000000   \n",
       "50%                  8.000000                   6.000000       8.000000   \n",
       "75%                 19.000000                  13.000000      26.000000   \n",
       "max                 85.000000                  85.000000    1649.000000   \n",
       "\n",
       "       Average_of_volume  StdDev_of_volume  Min_of_volume  Max_of_volume  \\\n",
       "count        5904.000000       5904.000000     5904.00000    5904.000000   \n",
       "mean            9.031165          5.162093        4.73357      15.033367   \n",
       "std            21.531079         16.047574       14.74172      37.773293   \n",
       "min             1.000000          0.000000        1.00000       1.000000   \n",
       "25%             1.000000          0.000000        1.00000       2.000000   \n",
       "50%             3.000000          1.000000        1.00000       4.000000   \n",
       "75%             8.000000          4.000000        3.00000      13.000000   \n",
       "max           412.000000        423.000000      354.00000     877.000000   \n",
       "\n",
       "       Median_of_volume  \n",
       "count       5904.000000  \n",
       "mean           8.090617  \n",
       "std           20.997715  \n",
       "min            1.000000  \n",
       "25%            1.000000  \n",
       "50%            3.000000  \n",
       "75%            7.000000  \n",
       "max          574.000000  "
      ]
     },
     "execution_count": 8,
     "metadata": {},
     "output_type": "execute_result"
    }
   ],
   "source": [
    "data.describe()"
   ]
  },
  {
   "cell_type": "markdown",
   "metadata": {},
   "source": [
    "### Distribution of Target Attribute"
   ]
  },
  {
   "cell_type": "code",
   "execution_count": 9,
   "metadata": {
    "scrolled": true
   },
   "outputs": [
    {
     "data": {
      "image/png": "[encoded data removed]",
      "text/plain": [
       "<Figure size 432x288 with 1 Axes>"
      ]
     },
     "metadata": {
      "needs_background": "light"
     },
     "output_type": "display_data"
    },
    {
     "name": "stdout",
     "output_type": "stream",
     "text": [
      "0    3827\n",
      "1    1496\n",
      "2     581\n",
      "Name: outage_duration, dtype: int64\n"
     ]
    }
   ],
   "source": [
    "sns.countplot(x='outage_duration',data=data)\n",
    "plt.show()\n",
    "\n",
    "# What are the counts?\n",
    "print(data.outage_duration.value_counts())"
   ]
  },
  {
   "cell_type": "markdown",
   "metadata": {},
   "source": [
    "### Dividing the Numerical and categorical values"
   ]
  },
  {
   "cell_type": "code",
   "execution_count": 10,
   "metadata": {},
   "outputs": [],
   "source": [
    "cat_attr = list(data.select_dtypes(\"category\").columns)\n",
    "num_attr = list(data.columns.difference(cat_attr))\n",
    "\n",
    "cat_attr.remove('outage_duration')  # Removing the target Variable"
   ]
  },
  {
   "cell_type": "code",
   "execution_count": 11,
   "metadata": {},
   "outputs": [
    {
     "data": {
      "text/plain": [
       "['area_code',\n",
       " 'broadband_type',\n",
       " 'bb_type',\n",
       " 'server_type',\n",
       " 'transit_type',\n",
       " 'log_report']"
      ]
     },
     "execution_count": 11,
     "metadata": {},
     "output_type": "execute_result"
    }
   ],
   "source": [
    "cat_attr"
   ]
  },
  {
   "cell_type": "code",
   "execution_count": 12,
   "metadata": {},
   "outputs": [
    {
     "data": {
      "text/plain": [
       "['Average_of_Volume_frm_area',\n",
       " 'Average_of_volume',\n",
       " 'Count_of_area',\n",
       " 'Count_of_broadband_type',\n",
       " 'Count_of_log_report_type',\n",
       " 'Count_of_transit_server_type',\n",
       " 'Max_of_Volume_frm_area',\n",
       " 'Max_of_volume',\n",
       " 'Median_of_Volume_frm_area',\n",
       " 'Median_of_volume',\n",
       " 'Min_of_Volume_frm_area',\n",
       " 'Min_of_volume',\n",
       " 'StdDev_of_Volume_frm_area',\n",
       " 'StdDev_of_volume',\n",
       " 'Sum_of_logs',\n",
       " 'Sum_of_volume',\n",
       " 'count_of_log',\n",
       " 'int_area_code',\n",
       " 'outage_type',\n",
       " 'sum_area_vol']"
      ]
     },
     "execution_count": 12,
     "metadata": {},
     "output_type": "execute_result"
    }
   ],
   "source": [
    "num_attr"
   ]
  },
  {
   "cell_type": "markdown",
   "metadata": {},
   "source": [
    "### Train And Test Split"
   ]
  },
  {
   "cell_type": "code",
   "execution_count": 13,
   "metadata": {},
   "outputs": [
    {
     "name": "stdout",
     "output_type": "stream",
     "text": [
      "(4132, 26)\n",
      "(1772, 26)\n",
      "(4132,)\n",
      "(1772,)\n"
     ]
    }
   ],
   "source": [
    "y = data['outage_duration']\n",
    "x=data.drop('outage_duration',axis=1)\n",
    "x_train,x_test,y_train,y_test = train_test_split(x,y,test_size=0.30)\n",
    "print(x_train.shape)\n",
    "print(x_test.shape)\n",
    "print(y_train.shape)\n",
    "print(y_test.shape)"
   ]
  },
  {
   "cell_type": "markdown",
   "metadata": {},
   "source": [
    "### Pipeline Intialization "
   ]
  },
  {
   "cell_type": "code",
   "execution_count": 14,
   "metadata": {},
   "outputs": [],
   "source": [
    "numeric_transformer = Pipeline(steps=[\n",
    "    ('scaler', StandardScaler())])\n",
    "\n",
    "categorical_transformer = Pipeline(steps=[\n",
    "    ('onehot', OneHotEncoder(handle_unknown='ignore'))])\n",
    "\n",
    "preprocessor = ColumnTransformer(transformers=[\n",
    "        ('num', numeric_transformer, num_attr),\n",
    "        ('cat', categorical_transformer, cat_attr)\n",
    "])"
   ]
  },
  {
   "cell_type": "markdown",
   "metadata": {},
   "source": [
    "### Data Preprocessing in the Pipeline"
   ]
  },
  {
   "cell_type": "code",
   "execution_count": 15,
   "metadata": {},
   "outputs": [],
   "source": [
    "clf = Pipeline(steps=[('preprocessor', preprocessor)])\n",
    "\n",
    "x_train_pp = pd.DataFrame(clf.fit_transform(x_train).toarray())\n",
    "x_test_pp = pd.DataFrame(clf.transform(x_test).toarray())"
   ]
  },
  {
   "cell_type": "markdown",
   "metadata": {},
   "source": [
    "### Handling the Imbalance Problem using SMOTE"
   ]
  },
  {
   "cell_type": "code",
   "execution_count": 16,
   "metadata": {},
   "outputs": [
    {
     "data": {
      "image/png": "[encoded data removed]",
      "text/plain": [
       "<Figure size 432x288 with 1 Axes>"
      ]
     },
     "metadata": {
      "needs_background": "light"
     },
     "output_type": "display_data"
    },
    {
     "name": "stdout",
     "output_type": "stream",
     "text": [
      "2    2668\n",
      "1    2668\n",
      "0    2668\n",
      "Name: outage_duration, dtype: int64\n"
     ]
    }
   ],
   "source": [
    "smote = SMOTE(random_state=0)\n",
    "\n",
    "\n",
    "os_train_x,os_train_y=smote.fit_sample(x_train_pp, y_train)\n",
    "\n",
    "os_train_x = pd.DataFrame(data=os_train_x)\n",
    "os_train_y= pd.DataFrame(data=os_train_y,columns=['outage_duration'])\n",
    "\n",
    "sns.countplot(x='outage_duration',data=os_train_y)\n",
    "plt.show()\n",
    "\n",
    "# What are the counts?\n",
    "print(os_train_y.outage_duration.value_counts())"
   ]
  },
  {
   "cell_type": "markdown",
   "metadata": {},
   "source": [
    "# Model Building:"
   ]
  },
  {
   "cell_type": "markdown",
   "metadata": {},
   "source": [
    "### Model 1 Logistic Regression"
   ]
  },
  {
   "cell_type": "code",
   "execution_count": 17,
   "metadata": {},
   "outputs": [
    {
     "name": "stdout",
     "output_type": "stream",
     "text": [
      "Train Data:\n",
      "Confusion matrix Train:\n",
      "-----------------------\n",
      "[[2342  202  124]\n",
      " [  81 2439  148]\n",
      " [  23   23 2622]]\n",
      "-------------------------------------------------------------------------------------------------------\n",
      "              precision    recall  f1-score   support\n",
      "\n",
      "           0      0.957     0.878     0.916      2668\n",
      "           1      0.916     0.914     0.915      2668\n",
      "           2      0.906     0.983     0.943      2668\n",
      "\n",
      "    accuracy                          0.925      8004\n",
      "   macro avg      0.926     0.925     0.925      8004\n",
      "weighted avg      0.926     0.925     0.925      8004\n",
      "\n",
      "*******************************************************************************************************\n",
      "Test Data:\n",
      "Confusion matrix Test:\n",
      "----------------------\n",
      "[[882 207  70]\n",
      " [119 278  66]\n",
      " [ 19  37  94]]\n",
      "-------------------------------------------------------------------------------------------------------\n",
      "              precision    recall  f1-score   support\n",
      "\n",
      "           0      0.865     0.761     0.810      1159\n",
      "           1      0.533     0.600     0.564       463\n",
      "           2      0.409     0.627     0.495       150\n",
      "\n",
      "    accuracy                          0.708      1772\n",
      "   macro avg      0.602     0.663     0.623      1772\n",
      "weighted avg      0.739     0.708     0.719      1772\n",
      "\n"
     ]
    }
   ],
   "source": [
    "clf_logreg = Pipeline(steps=[('classifier', LogisticRegression(random_state=123))])\n",
    "\n",
    "clf_logreg.fit(os_train_x,os_train_y)\n",
    "\n",
    "train_pred = clf_logreg.predict(os_train_x).reshape(1,-1)[0]\n",
    "test_pred = clf_logreg.predict(x_test_pp).reshape(1,-1)[0]\n",
    "\n",
    "train_pred_lr = train_pred\n",
    "test_pred_lr= test_pred\n",
    "\n",
    "\n",
    "print(\"Train Data:\")\n",
    "print(\"Confusion matrix Train:\")\n",
    "print(\"-----------------------\")\n",
    "print(metrics.confusion_matrix(os_train_y,train_pred))\n",
    "print(\"-------------------------------------------------------------------------------------------------------\")\n",
    "print(metrics.classification_report(os_train_y,train_pred, digits=3))\n",
    "\n",
    "print(\"*******************************************************************************************************\")\n",
    "\n",
    "print(\"Test Data:\")\n",
    "print(\"Confusion matrix Test:\")\n",
    "print(\"----------------------\")\n",
    "print(metrics.confusion_matrix(y_test,test_pred))\n",
    "print(\"-------------------------------------------------------------------------------------------------------\")\n",
    "print(metrics.classification_report(y_test,test_pred, digits=3))\n",
    "\n",
    "\n"
   ]
  },
  {
   "cell_type": "markdown",
   "metadata": {},
   "source": [
    "###  Model 2 Random Forest"
   ]
  },
  {
   "cell_type": "code",
   "execution_count": 18,
   "metadata": {
    "scrolled": false
   },
   "outputs": [
    {
     "data": {
      "image/png": "[encoded data removed]",
      "text/plain": [
       "<Figure size 432x288 with 1 Axes>"
      ]
     },
     "metadata": {
      "needs_background": "light"
     },
     "output_type": "display_data"
    }
   ],
   "source": [
    "from sklearn import tree\n",
    "\n",
    "max_depths = np.linspace(1, 60, 60, endpoint=True)\n",
    "\n",
    "train_results = []\n",
    "test_results = []\n",
    "\n",
    "for max_depth in max_depths:\n",
    "    rf = Pipeline(steps=[('classifier', RandomForestClassifier(max_depth=max_depth))])\n",
    "    rf.set_params(classifier__random_state=123)\n",
    "    #dt = tree.DecisionTreeClassifier(max_depth=max_depth)\n",
    "    rf.fit(os_train_x,os_train_y)\n",
    "    \n",
    "    train_pred = rf.predict(os_train_x).reshape(1,-1)[0]\n",
    "    confusion_matrix_train = confusion_matrix(os_train_y,train_pred)\n",
    "    Accuracy_Train=(confusion_matrix_train[0,0]+confusion_matrix_train[1,1]+confusion_matrix_train[2,2])/(confusion_matrix_train[0,0]+confusion_matrix_train[0,1]+confusion_matrix_train[0,2]+confusion_matrix_train[1,0]+confusion_matrix_train[1,1]+confusion_matrix_train[1,2]+confusion_matrix_train[2,0]+confusion_matrix_train[2,1]+confusion_matrix_train[2,2])    \n",
    "    train_results.append(Accuracy_Train)\n",
    "    \n",
    "    test_pred = rf.predict(x_test_pp).reshape(1,-1)[0]\n",
    "    confusion_matrix_test = confusion_matrix(y_test, test_pred)\n",
    "    Accuracy_Test=(confusion_matrix_test[0,0]+confusion_matrix_test[1,1]+confusion_matrix_test[2,2])/(confusion_matrix_test[0,0]+confusion_matrix_test[0,1]+confusion_matrix_test[0,2]+confusion_matrix_test[1,0]+confusion_matrix_test[1,1]+confusion_matrix_test[1,2]+confusion_matrix_test[2,0]+confusion_matrix_test[2,1]+confusion_matrix_test[2,2])    \n",
    "    test_results.append(Accuracy_Test)\n",
    "    \n",
    "from matplotlib.legend_handler import HandlerLine2D\n",
    "line1, = plt.plot(max_depths, train_results,'b', label='Train Accuracy')\n",
    "line2, = plt.plot(max_depths, test_results,'r', label='Test Accuracy')\n",
    "plt.legend(handler_map={line1: HandlerLine2D(numpoints=2)})\n",
    "plt.ylabel('Accuracy')\n",
    "plt.xlabel('Tree depth')\n",
    "plt.show()"
   ]
  },
  {
   "cell_type": "code",
   "execution_count": 19,
   "metadata": {
    "scrolled": false
   },
   "outputs": [
    {
     "name": "stdout",
     "output_type": "stream",
     "text": [
      "{'classifier__max_depth': 31, 'classifier__criterion': 'entropy'}\n",
      "Train Data:\n",
      "Confusion matrix Train:\n",
      "-----------------------\n",
      "[[2580   74   14]\n",
      " [   5 2660    3]\n",
      " [   0    0 2668]]\n",
      "-------------------------------------------------------------------------------------------------------\n",
      "              precision    recall  f1-score   support\n",
      "\n",
      "           0      0.998     0.967     0.982      2668\n",
      "           1      0.973     0.997     0.985      2668\n",
      "           2      0.994     1.000     0.997      2668\n",
      "\n",
      "    accuracy                          0.988      8004\n",
      "   macro avg      0.988     0.988     0.988      8004\n",
      "weighted avg      0.988     0.988     0.988      8004\n",
      "\n",
      "*******************************************************************************************************\n",
      "Test Data:\n",
      "Confusion matrix Test:\n",
      "----------------------\n",
      "[[917 179  63]\n",
      " [148 267  48]\n",
      " [ 18  14 118]]\n",
      "-------------------------------------------------------------------------------------------------------\n",
      "              precision    recall  f1-score   support\n",
      "\n",
      "           0      0.847     0.791     0.818      1159\n",
      "           1      0.580     0.577     0.579       463\n",
      "           2      0.515     0.787     0.623       150\n",
      "\n",
      "    accuracy                          0.735      1772\n",
      "   macro avg      0.647     0.718     0.673      1772\n",
      "weighted avg      0.749     0.735     0.739      1772\n",
      "\n"
     ]
    }
   ],
   "source": [
    "#After plotting the graph deciding the max Depth and building a model in Random forest\n",
    "\n",
    "\n",
    "from sklearn import tree\n",
    "\n",
    "clf_rf2 = Pipeline(steps=[('classifier', RandomForestClassifier())])\n",
    "\n",
    "clf_rf2_param_random = {'classifier__criterion': ['entropy','gini'], \n",
    "                'classifier__max_depth':[30,31]}\n",
    "\n",
    "\n",
    "clf_rf2_random = RandomizedSearchCV(clf_rf2, param_distributions=clf_rf2_param_random,cv=10,random_state=123)\n",
    "\n",
    "\n",
    "#clf_dt2.set_params(classifier__criterion ='entropy',classifier__max_depth=15,classifier__random_state=123)\n",
    "\n",
    "clf_rf2_random.fit(os_train_x,os_train_y)\n",
    "\n",
    "print(clf_rf2_random.best_params_)\n",
    "\n",
    "train_pred = clf_rf2_random.predict(os_train_x).reshape(1,-1)[0]\n",
    "test_pred = clf_rf2_random.predict(x_test_pp).reshape(1,-1)[0]\n",
    "\n",
    "train_pred_rf = train_pred\n",
    "test_pred_rf= test_pred\n",
    "\n",
    "print(\"Train Data:\")\n",
    "print(\"Confusion matrix Train:\")\n",
    "print(\"-----------------------\")\n",
    "print(metrics.confusion_matrix(os_train_y,train_pred))\n",
    "print(\"-------------------------------------------------------------------------------------------------------\")\n",
    "print(metrics.classification_report(os_train_y,train_pred, digits=3))\n",
    "\n",
    "print(\"*******************************************************************************************************\")\n",
    "\n",
    "print(\"Test Data:\")\n",
    "print(\"Confusion matrix Test:\")\n",
    "print(\"----------------------\")\n",
    "print(metrics.confusion_matrix(y_test,test_pred))\n",
    "print(\"-------------------------------------------------------------------------------------------------------\")\n",
    "print(metrics.classification_report(y_test,test_pred, digits=3))"
   ]
  },
  {
   "cell_type": "markdown",
   "metadata": {},
   "source": [
    "### Model 3 Knn"
   ]
  },
  {
   "cell_type": "code",
   "execution_count": 20,
   "metadata": {},
   "outputs": [
    {
     "name": "stdout",
     "output_type": "stream",
     "text": [
      "Train Data:\n",
      "Confusion matrix Train:\n",
      "-----------------------\n",
      "[[2668    0    0]\n",
      " [  63 2605    0]\n",
      " [   3    8 2657]]\n",
      "-------------------------------------------------------------------------------------------------------\n",
      "              precision    recall  f1-score   support\n",
      "\n",
      "           0      0.976     1.000     0.988      2668\n",
      "           1      0.997     0.976     0.987      2668\n",
      "           2      1.000     0.996     0.998      2668\n",
      "\n",
      "    accuracy                          0.991      8004\n",
      "   macro avg      0.991     0.991     0.991      8004\n",
      "weighted avg      0.991     0.991     0.991      8004\n",
      "\n",
      "*******************************************************************************************************\n",
      "Test Data:\n",
      "Confusion matrix Test:\n",
      "----------------------\n",
      "[[825 274  60]\n",
      " [132 272  59]\n",
      " [ 36  38  76]]\n",
      "-------------------------------------------------------------------------------------------------------\n",
      "              precision    recall  f1-score   support\n",
      "\n",
      "           0      0.831     0.712     0.767      1159\n",
      "           1      0.466     0.587     0.520       463\n",
      "           2      0.390     0.507     0.441       150\n",
      "\n",
      "    accuracy                          0.662      1772\n",
      "   macro avg      0.562     0.602     0.576      1772\n",
      "weighted avg      0.698     0.662     0.675      1772\n",
      "\n"
     ]
    }
   ],
   "source": [
    "clf_knn = Pipeline(steps=[('classifier', KNeighborsClassifier())])\n",
    "\n",
    "clf_knn.set_params(classifier__n_neighbors=2)\n",
    "\n",
    "\n",
    "clf_knn.fit(os_train_x,os_train_y)\n",
    "\n",
    "train_pred = clf_knn.predict(os_train_x).reshape(1,-1)[0]\n",
    "test_pred = clf_knn.predict(x_test_pp).reshape(1,-1)[0]\n",
    "\n",
    "train_pred_knn = train_pred\n",
    "test_pred_knn= test_pred\n",
    "\n",
    "print(\"Train Data:\")\n",
    "print(\"Confusion matrix Train:\")\n",
    "print(\"-----------------------\")\n",
    "print(metrics.confusion_matrix(os_train_y,train_pred))\n",
    "print(\"-------------------------------------------------------------------------------------------------------\")\n",
    "print(metrics.classification_report(os_train_y,train_pred, digits=3))\n",
    "\n",
    "print(\"*******************************************************************************************************\")\n",
    "\n",
    "print(\"Test Data:\")\n",
    "print(\"Confusion matrix Test:\")\n",
    "print(\"----------------------\")\n",
    "print(metrics.confusion_matrix(y_test,test_pred))\n",
    "print(\"-------------------------------------------------------------------------------------------------------\")\n",
    "print(metrics.classification_report(y_test,test_pred, digits=3))"
   ]
  },
  {
   "cell_type": "markdown",
   "metadata": {},
   "source": [
    "### Model 4 SVC"
   ]
  },
  {
   "cell_type": "code",
   "execution_count": 21,
   "metadata": {},
   "outputs": [
    {
     "name": "stdout",
     "output_type": "stream",
     "text": [
      "{'classifier__kernel': 'linear', 'classifier__gamma': 0.001, 'classifier__C': 1}\n",
      "Train Data:\n",
      "Confusion matrix Train:\n",
      "-----------------------\n",
      "[[2386  186   96]\n",
      " [  68 2473  127]\n",
      " [  16   18 2634]]\n",
      "-------------------------------------------------------------------------------------------------------\n",
      "              precision    recall  f1-score   support\n",
      "\n",
      "           0      0.966     0.894     0.929      2668\n",
      "           1      0.924     0.927     0.925      2668\n",
      "           2      0.922     0.987     0.953      2668\n",
      "\n",
      "    accuracy                          0.936      8004\n",
      "   macro avg      0.937     0.936     0.936      8004\n",
      "weighted avg      0.937     0.936     0.936      8004\n",
      "\n",
      "*******************************************************************************************************\n",
      "Test Data:\n",
      "Confusion matrix Test:\n",
      "----------------------\n",
      "[[918 189  52]\n",
      " [140 264  59]\n",
      " [ 26  36  88]]\n",
      "-------------------------------------------------------------------------------------------------------\n",
      "              precision    recall  f1-score   support\n",
      "\n",
      "           0      0.847     0.792     0.819      1159\n",
      "           1      0.540     0.570     0.555       463\n",
      "           2      0.442     0.587     0.504       150\n",
      "\n",
      "    accuracy                          0.717      1772\n",
      "   macro avg      0.610     0.650     0.626      1772\n",
      "weighted avg      0.732     0.717     0.723      1772\n",
      "\n"
     ]
    }
   ],
   "source": [
    "clf_svc3 = Pipeline(steps=[('classifier', SVC())])\n",
    "\n",
    "\n",
    "svc3_param_random = {'classifier__C': [1], \n",
    "                  'classifier__gamma':[0.001], \n",
    "                 \"classifier__kernel\":['linear']}\n",
    "\n",
    "\n",
    "svc3_random = RandomizedSearchCV(clf_svc3, param_distributions=svc3_param_random, cv=5,random_state=123)\n",
    "\n",
    "\n",
    "#clf_svc2.set_params(classifier__kernel='rbf',classifier__C=1,classifier__gamma=0.001,classifier__random_state=123)\n",
    "\n",
    "svc3_random.fit(os_train_x,os_train_y)\n",
    "\n",
    "train_pred = svc3_random.predict(os_train_x).reshape(1,-1)[0]\n",
    "test_pred = svc3_random.predict(x_test_pp).reshape(1,-1)[0]\n",
    "\n",
    "train_pred_svc = train_pred\n",
    "test_pred_svc= test_pred\n",
    "\n",
    "print(svc3_random.best_params_)\n",
    "print(\"Train Data:\")\n",
    "print(\"Confusion matrix Train:\")\n",
    "print(\"-----------------------\")\n",
    "print(metrics.confusion_matrix(os_train_y,train_pred))\n",
    "print(\"-------------------------------------------------------------------------------------------------------\")\n",
    "print(metrics.classification_report(os_train_y,train_pred, digits=3))\n",
    "\n",
    "print(\"*******************************************************************************************************\")\n",
    "\n",
    "print(\"Test Data:\")\n",
    "print(\"Confusion matrix Test:\")\n",
    "print(\"----------------------\")\n",
    "print(metrics.confusion_matrix(y_test,test_pred))\n",
    "print(\"-------------------------------------------------------------------------------------------------------\")\n",
    "print(metrics.classification_report(y_test,test_pred, digits=3))"
   ]
  },
  {
   "cell_type": "markdown",
   "metadata": {},
   "source": [
    "### Model 5 ADA Boosting"
   ]
  },
  {
   "cell_type": "code",
   "execution_count": 22,
   "metadata": {},
   "outputs": [
    {
     "name": "stdout",
     "output_type": "stream",
     "text": [
      "Train Data:\n",
      "Confusion matrix Train:\n",
      "-----------------------\n",
      "[[2668    0    0]\n",
      " [   2 2666    0]\n",
      " [   0    0 2668]]\n",
      "-------------------------------------------------------------------------------------------------------\n",
      "              precision    recall  f1-score   support\n",
      "\n",
      "           0      0.999     1.000     1.000      2668\n",
      "           1      1.000     0.999     1.000      2668\n",
      "           2      1.000     1.000     1.000      2668\n",
      "\n",
      "    accuracy                          1.000      8004\n",
      "   macro avg      1.000     1.000     1.000      8004\n",
      "weighted avg      1.000     1.000     1.000      8004\n",
      "\n",
      "*******************************************************************************************************\n",
      "Test Data:\n",
      "Confusion matrix Test:\n",
      "----------------------\n",
      "[[967 149  43]\n",
      " [173 252  38]\n",
      " [ 28  18 104]]\n",
      "-------------------------------------------------------------------------------------------------------\n",
      "              precision    recall  f1-score   support\n",
      "\n",
      "           0      0.828     0.834     0.831      1159\n",
      "           1      0.601     0.544     0.571       463\n",
      "           2      0.562     0.693     0.621       150\n",
      "\n",
      "    accuracy                          0.747      1772\n",
      "   macro avg      0.664     0.691     0.674      1772\n",
      "weighted avg      0.746     0.747     0.745      1772\n",
      "\n"
     ]
    }
   ],
   "source": [
    "from sklearn import tree\n",
    "from xgboost import XGBClassifier\n",
    "from sklearn.ensemble import AdaBoostClassifier\n",
    "\n",
    "clf_ada1 = Pipeline(steps=[('classifier', AdaBoostClassifier(tree.DecisionTreeClassifier(max_depth=31,criterion='entropy')))])\n",
    "\n",
    "clf_ada1.set_params(classifier__n_estimators=600,classifier__learning_rate=1,classifier__random_state=123)\n",
    "\n",
    "\n",
    "#clf_dt2.set_params(classifier__criterion ='entropy',classifier__max_depth=15,classifier__random_state=123)\n",
    "\n",
    "clf_ada1.fit(os_train_x,os_train_y)\n",
    "\n",
    "\n",
    "train_pred = clf_ada1.predict(os_train_x).reshape(1,-1)[0]\n",
    "test_pred = clf_ada1.predict(x_test_pp).reshape(1,-1)[0]\n",
    "\n",
    "train_pred_ada = train_pred\n",
    "test_pred_ada= test_pred\n",
    "\n",
    "print(\"Train Data:\")\n",
    "print(\"Confusion matrix Train:\")\n",
    "print(\"-----------------------\")\n",
    "print(metrics.confusion_matrix(os_train_y,train_pred))\n",
    "print(\"-------------------------------------------------------------------------------------------------------\")\n",
    "print(metrics.classification_report(os_train_y,train_pred, digits=3))\n",
    "\n",
    "print(\"*******************************************************************************************************\")\n",
    "\n",
    "print(\"Test Data:\")\n",
    "print(\"Confusion matrix Test:\")\n",
    "print(\"----------------------\")\n",
    "print(metrics.confusion_matrix(y_test,test_pred))\n",
    "print(\"-------------------------------------------------------------------------------------------------------\")\n",
    "print(metrics.classification_report(y_test,test_pred, digits=3))"
   ]
  },
  {
   "cell_type": "markdown",
   "metadata": {},
   "source": [
    "###  Model 6 Decision Tress"
   ]
  },
  {
   "cell_type": "code",
   "execution_count": 23,
   "metadata": {},
   "outputs": [
    {
     "data": {
      "image/png": "[encoded data removed]",
      "text/plain": [
       "<Figure size 432x288 with 1 Axes>"
      ]
     },
     "metadata": {
      "needs_background": "light"
     },
     "output_type": "display_data"
    }
   ],
   "source": [
    "from sklearn import tree\n",
    "\n",
    "max_depths = np.linspace(1, 32, 32, endpoint=True)\n",
    "\n",
    "train_results = []\n",
    "test_results = []\n",
    "\n",
    "for max_depth in max_depths:\n",
    "    dt = Pipeline(steps=[('classifier', tree.DecisionTreeClassifier(max_depth=max_depth))])\n",
    "    dt.set_params(classifier__random_state=123)\n",
    "    #dt = tree.DecisionTreeClassifier(max_depth=max_depth)\n",
    "    dt.fit(os_train_x,os_train_y)\n",
    "    \n",
    "    train_pred = dt.predict(os_train_x).reshape(1,-1)[0]\n",
    "    confusion_matrix_train = confusion_matrix(os_train_y,train_pred)\n",
    "    Accuracy_Train=(confusion_matrix_train[0,0]+confusion_matrix_train[1,1])/(confusion_matrix_train[0,0]+confusion_matrix_train[0,1]+confusion_matrix_train[1,0]+confusion_matrix_train[1,1])\n",
    "    train_results.append(Accuracy_Train)\n",
    "    \n",
    "    test_pred = dt.predict(x_test_pp).reshape(1,-1)[0]\n",
    "    confusion_matrix_test = confusion_matrix(y_test, test_pred)\n",
    "    Accuracy_Test=(confusion_matrix_test[0,0]+confusion_matrix_test[1,1])/(confusion_matrix_test[0,0]+confusion_matrix_test[0,1]+confusion_matrix_test[1,0]+confusion_matrix_test[1,1])\n",
    "    test_results.append(Accuracy_Test)\n",
    "    \n",
    "from matplotlib.legend_handler import HandlerLine2D\n",
    "line1, = plt.plot(max_depths, train_results,'b', label='Train Accuracy')\n",
    "line2, = plt.plot(max_depths, test_results,'r', label='Test Accuracy')\n",
    "plt.legend(handler_map={line1: HandlerLine2D(numpoints=2)})\n",
    "plt.ylabel('Accuracy')\n",
    "plt.xlabel('Tree depth')\n",
    "plt.show()"
   ]
  },
  {
   "cell_type": "code",
   "execution_count": 24,
   "metadata": {},
   "outputs": [
    {
     "name": "stdout",
     "output_type": "stream",
     "text": [
      "{'classifier__max_depth': 17, 'classifier__criterion': 'gini'}\n",
      "Train Data:\n",
      "Confusion matrix Train:\n",
      "-----------------------\n",
      "[[2329  232  107]\n",
      " [  74 2487  107]\n",
      " [  18   30 2620]]\n",
      "-------------------------------------------------------------------------------------------------------\n",
      "              precision    recall  f1-score   support\n",
      "\n",
      "           0      0.962     0.873     0.915      2668\n",
      "           1      0.905     0.932     0.918      2668\n",
      "           2      0.924     0.982     0.952      2668\n",
      "\n",
      "    accuracy                          0.929      8004\n",
      "   macro avg      0.930     0.929     0.929      8004\n",
      "weighted avg      0.930     0.929     0.929      8004\n",
      "\n",
      "*******************************************************************************************************\n",
      "Test Data:\n",
      "Confusion matrix Test:\n",
      "----------------------\n",
      "[[860 221  78]\n",
      " [142 266  55]\n",
      " [ 25  26  99]]\n",
      "-------------------------------------------------------------------------------------------------------\n",
      "              precision    recall  f1-score   support\n",
      "\n",
      "           0      0.837     0.742     0.787      1159\n",
      "           1      0.519     0.575     0.545       463\n",
      "           2      0.427     0.660     0.518       150\n",
      "\n",
      "    accuracy                          0.691      1772\n",
      "   macro avg      0.594     0.659     0.617      1772\n",
      "weighted avg      0.719     0.691     0.701      1772\n",
      "\n"
     ]
    }
   ],
   "source": [
    "from sklearn import tree\n",
    "\n",
    "clf_dt3 = Pipeline(steps=[('classifier', tree.DecisionTreeClassifier())])\n",
    "\n",
    "clf_dt3_param_random = {'classifier__criterion': ['entropy','gini'], \n",
    "                'classifier__max_depth':[15,16,17]}\n",
    "\n",
    "\n",
    "clf_dt3_random = RandomizedSearchCV(clf_dt3, param_distributions=clf_dt3_param_random,cv=5,random_state=123)\n",
    "\n",
    "\n",
    "#clf_dt2.set_params(classifier__criterion ='entropy',classifier__max_depth=15,classifier__random_state=123)\n",
    "\n",
    "clf_dt3_random.fit(os_train_x,os_train_y)\n",
    "\n",
    "print(clf_dt3_random.best_params_)\n",
    "\n",
    "train_pred = clf_dt3_random.predict(os_train_x).reshape(1,-1)[0]\n",
    "test_pred = clf_dt3_random.predict(x_test_pp).reshape(1,-1)[0]\n",
    "\n",
    "train_pred_dt = train_pred\n",
    "test_pred_dt= test_pred\n",
    "\n",
    "\n",
    "print(\"Train Data:\")\n",
    "print(\"Confusion matrix Train:\")\n",
    "print(\"-----------------------\")\n",
    "print(metrics.confusion_matrix(os_train_y,train_pred))\n",
    "print(\"-------------------------------------------------------------------------------------------------------\")\n",
    "print(metrics.classification_report(os_train_y,train_pred, digits=3))\n",
    "\n",
    "print(\"*******************************************************************************************************\")\n",
    "\n",
    "print(\"Test Data:\")\n",
    "print(\"Confusion matrix Test:\")\n",
    "print(\"----------------------\")\n",
    "print(metrics.confusion_matrix(y_test,test_pred))\n",
    "print(\"-------------------------------------------------------------------------------------------------------\")\n",
    "print(metrics.classification_report(y_test,test_pred, digits=3))"
   ]
  },
  {
   "cell_type": "markdown",
   "metadata": {},
   "source": [
    "### Model 7 XG Boosting"
   ]
  },
  {
   "cell_type": "code",
   "execution_count": 25,
   "metadata": {
    "scrolled": false
   },
   "outputs": [
    {
     "name": "stdout",
     "output_type": "stream",
     "text": [
      "Train Data:\n",
      "Confusion matrix Train:\n",
      "-----------------------\n",
      "[[2316  258   94]\n",
      " [ 160 2429   79]\n",
      " [  16   13 2639]]\n",
      "-------------------------------------------------------------------------------------------------------\n",
      "              precision    recall  f1-score   support\n",
      "\n",
      "           0      0.929     0.868     0.898      2668\n",
      "           1      0.900     0.910     0.905      2668\n",
      "           2      0.938     0.989     0.963      2668\n",
      "\n",
      "    accuracy                          0.923      8004\n",
      "   macro avg      0.922     0.923     0.922      8004\n",
      "weighted avg      0.922     0.923     0.922      8004\n",
      "\n",
      "*******************************************************************************************************\n",
      "Test Data:\n",
      "Confusion matrix Test:\n",
      "----------------------\n",
      "[[910 185  64]\n",
      " [118 304  41]\n",
      " [ 25  24 101]]\n",
      "-------------------------------------------------------------------------------------------------------\n",
      "              precision    recall  f1-score   support\n",
      "\n",
      "           0      0.864     0.785     0.823      1159\n",
      "           1      0.593     0.657     0.623       463\n",
      "           2      0.490     0.673     0.567       150\n",
      "\n",
      "    accuracy                          0.742      1772\n",
      "   macro avg      0.649     0.705     0.671      1772\n",
      "weighted avg      0.762     0.742     0.749      1772\n",
      "\n"
     ]
    }
   ],
   "source": [
    "#XGB_model = XGBClassifier(n_estimators=500, gamma=0.5,learning_rate=0.1)\n",
    "#%time XGB_model.fit(X_train, y_train)\n",
    "#y_pred = XGB_model.predict(X_test)\n",
    "#print(accuracy_score(y_test,y_pred))\n",
    "\n",
    "\n",
    "from xgboost import XGBClassifier\n",
    "clf_xg = Pipeline(steps=[('classifier', XGBClassifier(n_estimators=500, gamma=0,learning_rate=0.1,max_depth=4))])\n",
    "\n",
    "\n",
    "clf_xg.fit(os_train_x,os_train_y)\n",
    "\n",
    "train_pred = clf_xg.predict(os_train_x).reshape(1,-1)[0]\n",
    "test_pred = clf_xg.predict(x_test_pp).reshape(1,-1)[0]\n",
    "\n",
    "train_pred_xg = train_pred\n",
    "test_pred_xg= test_pred\n",
    "\n",
    "print(\"Train Data:\")\n",
    "print(\"Confusion matrix Train:\")\n",
    "print(\"-----------------------\")\n",
    "print(metrics.confusion_matrix(os_train_y,train_pred))\n",
    "print(\"-------------------------------------------------------------------------------------------------------\")\n",
    "print(metrics.classification_report(os_train_y,train_pred, digits=3))\n",
    "\n",
    "print(\"*******************************************************************************************************\")\n",
    "\n",
    "print(\"Test Data:\")\n",
    "print(\"Confusion matrix Test:\")\n",
    "print(\"----------------------\")\n",
    "print(metrics.confusion_matrix(y_test,test_pred))\n",
    "print(\"-------------------------------------------------------------------------------------------------------\")\n",
    "print(metrics.classification_report(y_test,test_pred, digits=3))"
   ]
  },
  {
   "cell_type": "markdown",
   "metadata": {},
   "source": [
    "### Reading Test dataset"
   ]
  },
  {
   "cell_type": "code",
   "execution_count": 26,
   "metadata": {},
   "outputs": [
    {
     "name": "stdout",
     "output_type": "stream",
     "text": [
      "(1477, 27)\n",
      "['id', 'area_code', 'int_area_code', 'Count_of_area', 'Count_of_broadband_type', 'broadband_type', 'bb_type', 'outage_type', 'Count_of_transit_server_type', 'server_type', 'transit_type', 'log_report', 'count_of_log', 'Sum_of_logs', 'Count_of_log_report_type', 'sum_area_vol', 'Average_of_Volume_frm_area', 'StdDev_of_Volume_frm_area', 'Min_of_Volume_frm_area', 'Max_of_Volume_frm_area', 'Median_of_Volume_frm_area', 'Sum_of_volume', 'Average_of_volume', 'StdDev_of_volume', 'Min_of_volume', 'Max_of_volume', 'Median_of_volume']\n"
     ]
    }
   ],
   "source": [
    "test = pd.read_csv(\"test4.csv\", sep=',', header=0)\n",
    "print(test.shape)\n",
    "print(list(test.columns))"
   ]
  },
  {
   "cell_type": "markdown",
   "metadata": {},
   "source": [
    "### Test data Preprocessing"
   ]
  },
  {
   "cell_type": "code",
   "execution_count": 27,
   "metadata": {},
   "outputs": [
    {
     "name": "stdout",
     "output_type": "stream",
     "text": [
      "(1477, 26)\n",
      "['area_code', 'int_area_code', 'Count_of_area', 'Count_of_broadband_type', 'broadband_type', 'bb_type', 'outage_type', 'Count_of_transit_server_type', 'server_type', 'transit_type', 'log_report', 'count_of_log', 'Sum_of_logs', 'Count_of_log_report_type', 'sum_area_vol', 'Average_of_Volume_frm_area', 'StdDev_of_Volume_frm_area', 'Min_of_Volume_frm_area', 'Max_of_Volume_frm_area', 'Median_of_Volume_frm_area', 'Sum_of_volume', 'Average_of_volume', 'StdDev_of_volume', 'Min_of_volume', 'Max_of_volume', 'Median_of_volume']\n",
      "area_code                       category\n",
      "int_area_code                      int64\n",
      "Count_of_area                      int64\n",
      "Count_of_broadband_type            int64\n",
      "broadband_type                  category\n",
      "bb_type                         category\n",
      "outage_type                        int64\n",
      "Count_of_transit_server_type       int64\n",
      "server_type                     category\n",
      "transit_type                    category\n",
      "log_report                      category\n",
      "count_of_log                       int64\n",
      "Sum_of_logs                        int64\n",
      "Count_of_log_report_type           int64\n",
      "sum_area_vol                       int64\n",
      "Average_of_Volume_frm_area         int64\n",
      "StdDev_of_Volume_frm_area          int64\n",
      "Min_of_Volume_frm_area             int64\n",
      "Max_of_Volume_frm_area             int64\n",
      "Median_of_Volume_frm_area          int64\n",
      "Sum_of_volume                      int64\n",
      "Average_of_volume                  int64\n",
      "StdDev_of_volume                   int64\n",
      "Min_of_volume                      int64\n",
      "Max_of_volume                      int64\n",
      "Median_of_volume                   int64\n",
      "dtype: object\n"
     ]
    }
   ],
   "source": [
    "test.drop(\"id\", axis = 1, inplace= True) \n",
    "\n",
    "\n",
    "test['area_code'] = test['area_code'].astype('category')\n",
    "test['broadband_type'] = test['broadband_type'].astype('category')\n",
    "test['bb_type'] = test['bb_type'].astype('category')\n",
    "#test['outage_type'] = test['outage_type'].astype('category') \n",
    "test['server_type'] = test['server_type'].astype('category')\n",
    "test['transit_type'] = test['transit_type'].astype('category')\n",
    "test['log_report'] = test['log_report'].astype('category')\n",
    "\n",
    "\n",
    "\n",
    "\n",
    "\n",
    "print(test.shape)\n",
    "print(list(test.columns))\n",
    "print((test.dtypes))\n",
    "\n",
    "cat_attr = list(test.select_dtypes(\"category\").columns)\n",
    "num_attr = list(test.columns.difference(cat_attr))"
   ]
  },
  {
   "cell_type": "markdown",
   "metadata": {},
   "source": [
    "### Preprocessing Test data in Pipeline"
   ]
  },
  {
   "cell_type": "code",
   "execution_count": 28,
   "metadata": {},
   "outputs": [],
   "source": [
    "clf = Pipeline(steps=[('preprocessor', preprocessor)])\n",
    "x_test_unseen = pd.DataFrame(clf.transform(test).toarray())"
   ]
  },
  {
   "cell_type": "markdown",
   "metadata": {},
   "source": [
    "### Predicting the test data on any above model "
   ]
  },
  {
   "cell_type": "code",
   "execution_count": 29,
   "metadata": {},
   "outputs": [],
   "source": [
    "test_pred_unseen = clf_xg.predict(x_test_unseen).reshape(1,-1)[0]  # Predict on whichever model u want\n",
    "\n",
    "test_pred_unseen2 = pd.DataFrame(test_pred_unseen)\n",
    "\n",
    "test_pred_unseen2.to_csv(\"Testoutput.csv\")"
   ]
  },
  {
   "cell_type": "code",
   "execution_count": null,
   "metadata": {},
   "outputs": [],
   "source": []
  },
  {
   "cell_type": "code",
   "execution_count": null,
   "metadata": {},
   "outputs": [],
   "source": []
  }
 ],
 "metadata": {
  "kernelspec": {
   "display_name": "Python 3",
   "language": "python",
   "name": "python3"
  },
  "language_info": {
   "codemirror_mode": {
    "name": "ipython",
    "version": 3
   },
   "file_extension": ".py",
   "mimetype": "text/x-python",
   "name": "python",
   "nbconvert_exporter": "python",
   "pygments_lexer": "ipython3",
   "version": "3.7.4"
  }
 },
 "nbformat": 4,
 "nbformat_minor": 2
}
